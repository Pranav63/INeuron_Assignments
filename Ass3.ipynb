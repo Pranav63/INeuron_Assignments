{
 "cells": [
  {
   "cell_type": "markdown",
   "metadata": {},
   "source": [
    "## Assignmnet 3"
   ]
  },
  {
   "cell_type": "code",
   "execution_count": 2,
   "metadata": {},
   "outputs": [
    {
     "name": "stdout",
     "output_type": "stream",
     "text": [
      "4 0\n",
      "You cant divide by 0\n"
     ]
    }
   ],
   "source": [
    "#Task1 Q1\n",
    "x,y=map(int,input().split())\n",
    "while True:\n",
    "    try:\n",
    "        if y==0:\n",
    "            raise e\n",
    "    except Exception as e:\n",
    "        print(\"You cant divide by 0\")\n",
    "        break\n",
    "    else:\n",
    "        print(x/y)\n",
    "        print(\"Please try again\")\n",
    "        break"
   ]
  },
  {
   "cell_type": "code",
   "execution_count": 21,
   "metadata": {},
   "outputs": [
    {
     "data": {
      "text/plain": [
       "['Americans Play Baseball',\n",
       " 'Americans Play Cricket',\n",
       " 'Americans watch Baseball',\n",
       " 'Americans watch Cricket',\n",
       " 'Indians Play Baseball',\n",
       " 'Indians Play Cricket',\n",
       " 'Indians watch Baseball',\n",
       " 'Indians watch Cricket']"
      ]
     },
     "execution_count": 21,
     "metadata": {},
     "output_type": "execute_result"
    }
   ],
   "source": [
    "#Task1 Q2\n",
    "subject=[\"Americans\",\"Indians\"]\n",
    "objects=[\"Baseball\",\"Cricket\"]\n",
    "verb=[\"Play\",\"watch\"]\n",
    "\n",
    "[i+\" \"+j+\" \"+k for i in subject for j in verb for k in objects]\n"
   ]
  },
  {
   "cell_type": "code",
   "execution_count": 18,
   "metadata": {},
   "outputs": [
    {
     "name": "stdout",
     "output_type": "stream",
     "text": [
      "---------Vander matrix---------\n",
      "The input array is: [1 2 3 4 5] \n",
      "\n",
      "Number of columns in output matrix 3 \n",
      "\n",
      "Vander matrix in decreasing order of powers:\n",
      "\n",
      " [[ 1  1  1]\n",
      " [ 4  2  1]\n",
      " [ 9  3  1]\n",
      " [16  4  1]\n",
      " [25  5  1]] \n",
      "\n",
      "Vander matrix in increasing order of powers:\n",
      "\n",
      " [[ 1  1  1]\n",
      " [ 1  2  4]\n",
      " [ 1  3  9]\n",
      " [ 1  4 16]\n",
      " [ 1  5 25]] \n",
      "\n"
     ]
    }
   ],
   "source": [
    "#Task2 \n",
    "import numpy as np\n",
    "\n",
    "'''Iterate over each number in the input vector n times, n being the number of columns in the o/p matrix and output \n",
    "an intermediate vector. Use diff order formula based on increasing and decreasing condition.\n",
    "Reshape the intermediate vector using the size of the input vector (rows) and n (columns) to generate the o/p matrix''' \n",
    "   \n",
    "def gen_vander_matrix(ipvector, n, increasing=False):\n",
    "    \n",
    "    if not increasing:\n",
    "        op_matx = np.array([x**(n-1-i) for x in ipvector for i in range(n)]).reshape(ipvector.size,n)\n",
    "    elif increasing:\n",
    "        op_matx = np.array([x**i for x in ipvector for i in range(n)]).reshape(ipvector.size,n)\n",
    "    \n",
    "    return op_matx\n",
    "\n",
    "print(\"---------Vander matrix---------\")\n",
    "\n",
    "inputvector = np.array([1,2,3,4,5])\n",
    "no_col_opmat = 3\n",
    "op_matx_dec_order = gen_vander_matrix(inputvector,no_col_opmat,False)\n",
    "op_matx_inc_order = gen_vander_matrix(inputvector,no_col_opmat,True)\n",
    "\n",
    "print(\"The input array is:\",inputvector,\"\\n\")\n",
    "print(\"Number of columns in output matrix\",no_col_opmat,\"\\n\")\n",
    "print(\"Vander matrix in decreasing order of powers:\\n\\n\",op_matx_dec_order,\"\\n\")\n",
    "print(\"Vander matrix in increasing order of powers:\\n\\n\",op_matx_inc_order,\"\\n\")"
   ]
  }
 ],
 "metadata": {
  "kernelspec": {
   "display_name": "Python 3",
   "language": "python",
   "name": "python3"
  },
  "language_info": {
   "codemirror_mode": {
    "name": "ipython",
    "version": 3
   },
   "file_extension": ".py",
   "mimetype": "text/x-python",
   "name": "python",
   "nbconvert_exporter": "python",
   "pygments_lexer": "ipython3",
   "version": "3.7.3"
  }
 },
 "nbformat": 4,
 "nbformat_minor": 2
}
